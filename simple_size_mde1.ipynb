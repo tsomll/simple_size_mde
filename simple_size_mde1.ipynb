{
 "cells": [
  {
   "cell_type": "code",
   "execution_count": 1,
   "id": "9b797547-5c04-4e6f-ba61-de91ea879e60",
   "metadata": {},
   "outputs": [],
   "source": [
    "import pandahouse\n",
    "import pandas as pd\n",
    "import numpy as np\n",
    "from scipy import stats\n",
    "from tqdm import tqdm  # Прогресс-бар\n",
    "import pandahouse\n",
    "import pandas as pd\n",
    "import seaborn as sns\n",
    "import matplotlib.pyplot as plt\n",
    "import numpy as np\n",
    "import hashlib # Делать хеши\n",
    "import swifter # Ускорялка метода apply\n",
    "from scipy import stats # Статистика\n",
    "from scipy.stats import norm, ttest_ind\n",
    "\n",
    "%matplotlib inline\n",
    "connection = {\n",
    "    'host': 'https://clickhouse.lab.karpov.courses',\n",
    "    'password': 'dpo_python_2020',\n",
    "    'user': 'student',\n",
    "    'database': 'simulator_20250220'\n",
    "}"
   ]
  },
  {
   "cell_type": "markdown",
   "id": "babde693-b145-4e6c-b9c7-4aea9663a790",
   "metadata": {},
   "source": [
    "Задача:\n",
    "Провести симуляцию A/B-теста с использованием Монте-Карло, чтобы оценить мощность теста при предположении, что новый алгоритм рекомендаций увеличивает число просмотров на пользователя. В ходе эксперимента используются реальные распределения просмотров и CTR с периода A/A-теста.\n"
   ]
  },
  {
   "cell_type": "code",
   "execution_count": 2,
   "id": "c75aeb46-face-4b52-b0d6-fae6e62e46a3",
   "metadata": {},
   "outputs": [
    {
     "data": {
      "text/plain": [
       "<Axes: ylabel='Count'>"
      ]
     },
     "execution_count": 2,
     "metadata": {},
     "output_type": "execute_result"
    },
    {
     "data": {
      "image/png": "[encoded data removed]",
      "text/plain": [
       "<Figure size 432x288 with 1 Axes>"
      ]
     },
     "metadata": {
      "needs_background": "light"
     },
     "output_type": "display_data"
    }
   ],
   "source": [
    "# Выгружаю распределение просмотров на пользователя за период A/A-теста\n",
    "# Использую диапазон 2025-01-24 по 2025-01-30\n",
    "# Эти данные нужны для симуляции поведения пользователей\n",
    "q_views = \"\"\"\n",
    "select views, count() as users\n",
    "from (select \n",
    "    user_id,\n",
    "    sum(action = 'view') as views\n",
    "from {db}.feed_actions \n",
    "where toDate(time) between '2025-01-24' and '2025-01-30'\n",
    "group by user_id\n",
    ")\n",
    "group by views\n",
    "order by views\n",
    "\"\"\"\n",
    "\n",
    "\n",
    "views = pandahouse.read_clickhouse(q_views, connection=connection)\n",
    "views['p'] = views['users']/views.users.sum()\n",
    "views_distr = stats.rv_discrete(name='views_distr', \n",
    "                                values=(views['views'], \n",
    "                                        views['p']))\n",
    "sns.histplot(views_distr.rvs(size=2000))"
   ]
  },
  {
   "cell_type": "code",
   "execution_count": 3,
   "id": "afda6b9f-5528-41e2-86d2-90e41174ba72",
   "metadata": {},
   "outputs": [],
   "source": [
    "# Выгружаю распределение по пользовательским CTR (лайки / просмотры)\n",
    "# Также на период A/A-теста\n",
    "q_ctr = \"\"\"\n",
    "select \n",
    "   floor(ctr, 2) as ctr, count() as users\n",
    "from (select toDate(time) as dt, \n",
    "    user_id,\n",
    "    sum(action = 'like')/sum(action = 'view') as ctr\n",
    "from {db}.feed_actions\n",
    "where dt between '2025-01-24' AND '2025-01-30'\n",
    "group by dt,user_id\n",
    ")\n",
    "group by ctr\n",
    "\"\"\"\n",
    "\n",
    "ctr = pandahouse.read_clickhouse(q_ctr, connection=connection)\n",
    "#для дальнейшей выборки с заданным распределением\n",
    "views['p'] = views['users'] / views['users'].sum() \n",
    "ctr['p'] = ctr['users'] / ctr['users'].sum() \n"
   ]
  },
  {
   "cell_type": "code",
   "execution_count": 4,
   "id": "c66e5fa7-cc94-40be-9f01-69b134750247",
   "metadata": {},
   "outputs": [
    {
     "name": "stderr",
     "output_type": "stream",
     "text": [
      "100%|██████████| 20000/20000 [05:17<00:00, 62.97it/s]"
     ]
    },
    {
     "name": "stdout",
     "output_type": "stream",
     "text": [
      "Финальный результат: мощность теста 41.555 %\n"
     ]
    },
    {
     "name": "stderr",
     "output_type": "stream",
     "text": [
      "\n"
     ]
    }
   ],
   "source": [
    "# Симуляция Монте-Карло: оценим мощность A/B-теста при условии гипотетического эффекта\n",
    "# Предположим, что алгоритм увеличивает просмотры на 1-2 с вероятностью 90%, если их изначально >= 50\n",
    "# Количество симуляций: 20 000\n",
    "# Цель: оценить, с какой вероятностью t-тест обнаружит значимое отличие в лайках между группами\n",
    "\n",
    "rng = np.random.default_rng()\n",
    "\n",
    "n = views.users.sum() // 2\n",
    "\n",
    "num_simulations = 20000\n",
    "result_list = []\n",
    "# Случайным образом создаем группы A и B, используя распределение просмотров\n",
    "# Группа B: применяем эффект от алгоритма (увеличиваем просмотры согласно описанному правилу)\n",
    "for i in tqdm(range(num_simulations)):\n",
    "    group_A_views = rng.choice(views['views'], size=n, replace=True, p=views['p']).astype(np.int64)\n",
    "    group_B_views = rng.choice(views['views'], size=n, replace=True, p=views['p']).astype(np.int64)\n",
    "    \n",
    "    group_B_views = group_B_views + ((1 + rng.binomial(1, 0.5, size=n)) * rng.binomial(1, 0.9, size=n)) * (group_B_views >= 30)\n",
    "    \n",
    "    group_A_ctr = rng.choice(ctr['ctr'], size=n, replace=True, p=ctr['p'])\n",
    "    group_B_ctr = rng.choice(ctr['ctr'], size=n, replace=True, p=ctr['p'])\n",
    "    \n",
    "    group_A_likes = rng.binomial(group_A_views, group_A_ctr)\n",
    "    group_B_likes = rng.binomial(group_B_views, group_B_ctr)\n",
    "    \n",
    "    result_list.append(stats.ttest_ind(group_B_likes, group_A_likes, equal_var=False).pvalue < 0.05)\n",
    "\n",
    "# Рассчитаем долю симуляций, где p-value < 0.05. Это и есть оценка статистической мощности теста в процентах.\n",
    "\n",
    "result = (sum(result_list) / num_simulations) * 100\n",
    "print(f\"Финальный результат: мощность теста {result} %\")"
   ]
  },
  {
   "cell_type": "code",
   "execution_count": null,
   "id": "bb19ae57-5d08-4d60-8e06-f79e9a119d9a",
   "metadata": {},
   "outputs": [],
   "source": []
  },
  {
   "cell_type": "code",
   "execution_count": null,
   "id": "8a97422b-ac87-4761-9286-c80729050ba3",
   "metadata": {},
   "outputs": [],
   "source": []
  }
 ],
 "metadata": {
  "kernelspec": {
   "display_name": "Python 3 (ipykernel)",
   "language": "python",
   "name": "python3"
  },
  "language_info": {
   "codemirror_mode": {
    "name": "ipython",
    "version": 3
   },
   "file_extension": ".py",
   "mimetype": "text/x-python",
   "name": "python",
   "nbconvert_exporter": "python",
   "pygments_lexer": "ipython3",
   "version": "3.8.10"
  }
 },
 "nbformat": 4,
 "nbformat_minor": 5
}
