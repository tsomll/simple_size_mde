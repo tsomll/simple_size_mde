{
 "cells": [
  {
   "cell_type": "code",
   "execution_count": 1,
   "id": "eee11407-175a-4000-b888-a8969c870e98",
   "metadata": {},
   "outputs": [],
   "source": [
    "import pandahouse\n",
    "import pandas as pd\n",
    "import numpy as np\n",
    "from scipy import stats\n",
    "from tqdm import tqdm  # Прогресс-бар\n",
    "import pandahouse\n",
    "import pandas as pd\n",
    "import seaborn as sns\n",
    "import matplotlib.pyplot as plt\n",
    "import numpy as np\n",
    "import hashlib # Делать хеши\n",
    "import swifter # Ускорялка метода apply\n",
    "from scipy import stats # Статистика\n",
    "from scipy.stats import norm, ttest_ind\n",
    "%matplotlib inline\n",
    "connection = {\n",
    "    'host': 'https://clickhouse.lab.karpov.courses',\n",
    "    'password': 'dpo_python_2020',\n",
    "    'user': 'student',\n",
    "    'database': 'simulator_20250220'\n",
    "}"
   ]
  },
  {
   "cell_type": "markdown",
   "id": "a643c5c5-b50f-43be-b9b3-cbea97cba54f",
   "metadata": {},
   "source": [
    "Задача: улучшение чувствительности A/B-теста\n",
    "\n",
    "Ранее я анализировала все данные, включая пользователей, на которых экспериментальный алгоритм не мог повлиять (например, с числом просмотров меньше 30). В этом задании пересматриваю подход: отбираю только тех пользователей, для которых алгоритм действительно мог сработать, и анализирую только их поведение.\n",
    "\n",
    "Цель состояла в том, чтобы повысить чувствительность A/B-теста, исключив нерелевантные данные и уменьшив шум. Я смоделировала поведение пользователей (просмотры, CTR, лайки) и сравнила группы только среди тех, кто мог быть затронут алгоритмом.\n",
    "\n",
    "В результате оценила текущую мощность теста и сделала выводы о том, как такой фильтр влияет на точность и чувствительность анализа.\n"
   ]
  },
  {
   "cell_type": "code",
   "execution_count": 2,
   "id": "f0829117-fa47-4f5e-a84f-aad904babddc",
   "metadata": {},
   "outputs": [],
   "source": [
    "# Распределение просмотров пользователей\n",
    "q_views = \"\"\"\n",
    "select views, count() as users\n",
    "from (select\n",
    "    user_id,\n",
    "    sum(action = 'view') as views\n",
    "from {db}.feed_actions\n",
    "where toDate(time) between '2025-01-24' AND '2025-01-30'\n",
    "group by user_id\n",
    ")\n",
    "group by views\n",
    "order by views\n",
    "\"\"\"\n",
    "views = pandahouse.read_clickhouse(q_views, connection=connection)\n",
    "\n",
    "# Распределение поюзерного CTR за A/A-период\n",
    "q_ctr = \"\"\"\n",
    "select \n",
    "   floor(ctr, 2) as ctr, count() as users\n",
    "from (select toDate(time) as dt, \n",
    "    user_id,\n",
    "    sum(action = 'like')/sum(action = 'view') as ctr\n",
    "from {db}.feed_actions\n",
    "where dt between '2025-01-24' AND '2025-01-30'\n",
    "group by dt,user_id\n",
    ")\n",
    "group by ctr\n",
    "\"\"\"\n",
    "ctr = pandahouse.read_clickhouse(q_ctr, connection=connection)\n",
    "\n",
    "# Нормирование вероятности для дискретных распределений\n",
    "views['p'] = views['users'] / views['users'].sum() \n",
    "ctr['p'] = ctr['users'] / ctr['users'].sum() "
   ]
  },
  {
   "cell_type": "code",
   "execution_count": 3,
   "id": "065ffb5a-1a35-48a7-9d0f-f9103459f880",
   "metadata": {},
   "outputs": [],
   "source": [
    "# Количество пользователей за весь период 24.01-06.02\n",
    "q_count_user= \"\"\"\n",
    "SELECT count(DISTINCT user_id) as total_users\n",
    "FROM {db}.feed_actions\n",
    "WHERE toDate(time) BETWEEN '2025-01-24' AND '2025-02-06'\n",
    "\n",
    "\"\"\"\n",
    "\n",
    "count_users = pandahouse.read_clickhouse(q_count_user, connection=connection)\n",
    "total_users = int(count_users.iloc[0, 0])"
   ]
  },
  {
   "cell_type": "code",
   "execution_count": 4,
   "id": "ad4f9e73-b676-4397-813d-1b367816d656",
   "metadata": {},
   "outputs": [
    {
     "name": "stderr",
     "output_type": "stream",
     "text": [
      "100%|██████████| 20000/20000 [07:18<00:00, 45.59it/s]"
     ]
    },
    {
     "name": "stdout",
     "output_type": "stream",
     "text": [
      "Финальный результат: мощность теста 64.07 %\n"
     ]
    },
    {
     "name": "stderr",
     "output_type": "stream",
     "text": [
      "\n"
     ]
    }
   ],
   "source": [
    "rng = np.random.default_rng()\n",
    "\n",
    "n=total_users//2 # Размер каждой группы\n",
    "num_simulations = 20000\n",
    "result_list = []\n",
    "    \n",
    "for i in tqdm(range(num_simulations)):\n",
    "    # Сэмплирование просмотров с учетом вероятностей\n",
    "    group_A_views = rng.choice(views['views'], size=n, replace=True, p=views['p']).astype(np.int64)\n",
    "    group_B_views = rng.choice(views['views'], size=n, replace=True, p=views['p']).astype(np.int64)\n",
    "    \n",
    "    # Применение эффекта алгоритма в группе B\n",
    "    group_B_views = group_B_views + ((1 + rng.binomial(1, 0.5, size=n)) * rng.binomial(1, 0.9, size=n)) * (group_B_views >= 30)\n",
    "    \n",
    "    # Сэмплирование CTR\n",
    "    group_A_ctr = rng.choice(ctr['ctr'], size=n, replace=True, p=ctr['p'])\n",
    "    group_B_ctr = rng.choice(ctr['ctr'], size=n, replace=True, p=ctr['p'])\n",
    "    \n",
    "    # Генерация лайков на основе просмотров и CTR\n",
    "    group_A_likes = rng.binomial(group_A_views, group_A_ctr)\n",
    "    group_B_likes = rng.binomial(group_B_views, group_B_ctr)\n",
    "    \n",
    "    # Отбор пользователей с ≥30 просмотрами\n",
    "    mask_A = group_A_views >= 30\n",
    "    mask_B = group_B_views >= 30\n",
    "    \n",
    "    # Проведение t-теста для отфильтрованных пользователей\n",
    "    result_list.append(stats.ttest_ind(group_A_likes[mask_A], group_B_likes[mask_B], equal_var=False).pvalue < 0.05)\n",
    "\n",
    "# Расчет мощности теста\n",
    "result = (sum(result_list) / num_simulations) * 100\n",
    "print(f\"Финальный результат: мощность теста {result:.2f} %\")"
   ]
  },
  {
   "cell_type": "markdown",
   "id": "44cff206-49bb-41bf-a04e-eca753709f66",
   "metadata": {},
   "source": [
    "Мощность теста после фильтрации пользователей с количеством просмотров менее 30 составила 64.07%. Таким образом, исключение нерелевантных пользователей позволяет сделать тест более чувствительным, несмотря на уменьшение размера выборки. Этот подход помогает точнее оценить влияние алгоритма на целевую аудиторию."
   ]
  },
  {
   "cell_type": "code",
   "execution_count": null,
   "id": "961773a1-d9ad-43f2-bd77-d9b3d8a6122d",
   "metadata": {},
   "outputs": [],
   "source": []
  }
 ],
 "metadata": {
  "kernelspec": {
   "display_name": "Python 3 (ipykernel)",
   "language": "python",
   "name": "python3"
  },
  "language_info": {
   "codemirror_mode": {
    "name": "ipython",
    "version": 3
   },
   "file_extension": ".py",
   "mimetype": "text/x-python",
   "name": "python",
   "nbconvert_exporter": "python",
   "pygments_lexer": "ipython3",
   "version": "3.8.10"
  }
 },
 "nbformat": 4,
 "nbformat_minor": 5
}
