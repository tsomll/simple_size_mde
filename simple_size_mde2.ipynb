{
 "cells": [
  {
   "cell_type": "code",
   "execution_count": 32,
   "id": "98c54e79-bdd8-4cee-ad72-552f7131c552",
   "metadata": {},
   "outputs": [],
   "source": [
    "import pandahouse\n",
    "import pandas as pd\n",
    "import numpy as np\n",
    "from scipy import stats\n",
    "from tqdm import tqdm  # Прогресс-бар\n",
    "import pandahouse\n",
    "import pandas as pd\n",
    "import seaborn as sns\n",
    "import matplotlib.pyplot as plt\n",
    "import numpy as np\n",
    "import hashlib # Делать хеши\n",
    "import swifter # Ускорялка метода apply\n",
    "from scipy import stats # Статистика\n",
    "from scipy.stats import norm, ttest_ind\n",
    "%matplotlib inline\n",
    "connection = {\n",
    "    'host': 'https://clickhouse.lab.karpov.courses',\n",
    "    'password': 'dpo_python_2020',\n",
    "    'user': 'student',\n",
    "    'database': 'simulator_20250220'\n",
    "}"
   ]
  },
  {
   "cell_type": "markdown",
   "id": "1104be73-2aa0-4b75-bb4a-55cad64da473",
   "metadata": {},
   "source": [
    "Задача: \n",
    "Коллеги из ML-отдела планируют внедрить новый алгоритм, который увеличивает количество просмотров у части пользователей. Есть предположение, что рост просмотров повлечёт за собой рост количества лайков на пользователя.\n",
    "\n",
    "Цель — оценить, сможем ли мы зафиксировать это изменение в среднем числе лайков на пользователя, используя t-тест. Для этого моделируем ситуацию с помощью симуляции Монте-Карло, используя данные из A/A и A/B периода (24.01.2025 – 06.02.2025). Размер выборки увеличен вдвое по сравнению с первой симуляцией, т.к. эксперимент теперь длится 2 недели.\n",
    "\n",
    "Распределения просмотров и CTR из A/A-периода (24.01.2025 – 30.01.2025). \n",
    "Количество симуляций: 20 000."
   ]
  },
  {
   "cell_type": "code",
   "execution_count": 53,
   "id": "aab85114-078a-4800-86fb-7fa8b5fe2fb7",
   "metadata": {},
   "outputs": [
    {
     "data": {
      "text/plain": [
       "<Axes: ylabel='Count'>"
      ]
     },
     "execution_count": 53,
     "metadata": {},
     "output_type": "execute_result"
    },
    {
     "data": {
      "image/png": "[encoded data removed]",
      "text/plain": [
       "<Figure size 432x288 with 1 Axes>"
      ]
     },
     "metadata": {
      "needs_background": "light"
     },
     "output_type": "display_data"
    }
   ],
   "source": [
    "# Распределение просмотров пользователей за A/A-период\n",
    "\n",
    "q_views = \"\"\"\n",
    "select views, count() as users\n",
    "from (select\n",
    "    user_id,\n",
    "    sum(action = 'view') as views\n",
    "from {db}.feed_actions\n",
    "where toDate(time) between '2025-01-24' AND '2025-01-30'\n",
    "group by user_id\n",
    ")\n",
    "group by views\n",
    "order by views\n",
    "\"\"\"\n",
    "views = pandahouse.read_clickhouse(q_views, connection=connection)\n",
    "views['p'] = views['users']/views.users.sum()\n",
    "\n",
    "# Отображение графика для демонстрации\n",
    "views_distr = stats.rv_discrete(name='views_distr', \n",
    "                                values=(views['views'], \n",
    "                                        views['p']))\n",
    "sns.histplot(views_distr.rvs(size=2000))"
   ]
  },
  {
   "cell_type": "code",
   "execution_count": 54,
   "id": "cc13da88-b69e-498d-94ce-596eb20fb352",
   "metadata": {},
   "outputs": [],
   "source": [
    "# Распределение поюзерного CTR за A/A-период\n",
    "q_ctr = \"\"\"\n",
    "select \n",
    "   floor(ctr, 2) as ctr, count() as users\n",
    "from (select toDate(time) as dt, \n",
    "    user_id,\n",
    "    sum(action = 'like')/sum(action = 'view') as ctr\n",
    "from {db}.feed_actions\n",
    "where dt between '2025-01-24' AND '2025-01-30'\n",
    "group by dt,user_id\n",
    ")\n",
    "group by ctr\n",
    "\"\"\"\n",
    "\n",
    "ctr = pandahouse.read_clickhouse(q_ctr, connection=connection)\n",
    "\n",
    "# Нормирование вероятности для дискретных распределений\n",
    "views['p'] = views['users'] / views['users'].sum() \n",
    "ctr['p'] = ctr['users'] / ctr['users'].sum() "
   ]
  },
  {
   "cell_type": "code",
   "execution_count": 55,
   "id": "9a5f3e77-f97c-440a-be12-92f38b637eb4",
   "metadata": {},
   "outputs": [],
   "source": [
    "# Количество пользователей за весь период 24.01-06.02\n",
    "q_count_user= \"\"\"\n",
    "SELECT count(DISTINCT user_id) as total_users\n",
    "FROM {db}.feed_actions\n",
    "WHERE toDate(time) BETWEEN '2025-01-24' AND '2025-02-06'\n",
    "\n",
    "\"\"\"\n",
    "\n",
    "count_users = pandahouse.read_clickhouse(q_count_user, connection=connection)\n",
    "total_users = int(count_users.iloc[0, 0])"
   ]
  },
  {
   "cell_type": "code",
   "execution_count": 56,
   "id": "a7291153-5bbb-4357-930f-6187b27d5e7a",
   "metadata": {},
   "outputs": [
    {
     "name": "stderr",
     "output_type": "stream",
     "text": [
      "100%|██████████| 20000/20000 [07:14<00:00, 46.03it/s]"
     ]
    },
    {
     "name": "stdout",
     "output_type": "stream",
     "text": [
      "Финальный результат: мощность теста 56.36 %\n"
     ]
    },
    {
     "name": "stderr",
     "output_type": "stream",
     "text": [
      "\n"
     ]
    }
   ],
   "source": [
    "# Симуляция Монте-Карло для оценки мощности теста\n",
    "rng = np.random.default_rng()\n",
    "\n",
    "n=total_users//2\n",
    "num_simulations = 20000\n",
    "result_list = []\n",
    "    \n",
    "for i in tqdm(range(num_simulations)):\n",
    "    # Генерирация просмотров и CTR из реальных распределений\n",
    "    group_A_views = rng.choice(views['views'], size=n, replace=True, p=views['p']).astype(np.int64)\n",
    "    group_B_views = rng.choice(views['views'], size=n, replace=True, p=views['p']).astype(np.int64)\n",
    "    \n",
    "    # Моделирование эффекта алгоритма в группе B (1–2 доп. просмотра при условии >= 30)\n",
    "    group_B_views = group_B_views + ((1 + rng.binomial(1, 0.5, size=n)) * rng.binomial(1, 0.9, size=n)) * (group_B_views >= 30)\n",
    "    \n",
    "    group_A_ctr = rng.choice(ctr['ctr'], size=n, replace=True, p=ctr['p'])\n",
    "    group_B_ctr = rng.choice(ctr['ctr'], size=n, replace=True, p=ctr['p'])\n",
    "    \n",
    "    # Генерация количества лайков\n",
    "    group_A_likes = rng.binomial(group_A_views, group_A_ctr)\n",
    "    group_B_likes = rng.binomial(group_B_views, group_B_ctr)\n",
    "    \n",
    "    # t-тест с поправкой на неравные дисперсии\n",
    "    result_list.append(stats.ttest_ind(group_B_likes, group_A_likes, equal_var=False).pvalue < 0.05)\n",
    "\n",
    "# Расчёт мощности теста\n",
    "result = (sum(result_list) / num_simulations) * 100\n",
    "print(f\"Финальный результат: мощность теста {result:.2f} %\")"
   ]
  },
  {
   "cell_type": "code",
   "execution_count": null,
   "id": "bcd6f472-174d-4a89-9ad6-b6acbdc42f34",
   "metadata": {},
   "outputs": [],
   "source": []
  },
  {
   "cell_type": "code",
   "execution_count": null,
   "id": "095ebaf6-a7e9-469b-b65d-6291b215ddcf",
   "metadata": {},
   "outputs": [],
   "source": []
  }
 ],
 "metadata": {
  "kernelspec": {
   "display_name": "Python 3 (ipykernel)",
   "language": "python",
   "name": "python3"
  },
  "language_info": {
   "codemirror_mode": {
    "name": "ipython",
    "version": 3
   },
   "file_extension": ".py",
   "mimetype": "text/x-python",
   "name": "python",
   "nbconvert_exporter": "python",
   "pygments_lexer": "ipython3",
   "version": "3.8.10"
  }
 },
 "nbformat": 4,
 "nbformat_minor": 5
}
